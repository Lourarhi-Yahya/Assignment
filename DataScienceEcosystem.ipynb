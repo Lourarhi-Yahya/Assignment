{
 "cells": [
  {
   "cell_type": "markdown",
   "id": "44e59d9f",
   "metadata": {},
   "source": [
    "# Data Science Ecosystem"
   ]
  },
  {
   "cell_type": "markdown",
   "id": "5aa62df0",
   "metadata": {},
   "source": [
    "## Introduction\n",
    "\n",
    "In this notebook, we will present a summary of the Data Science Tools and Ecosystem. We will explore various tools, libraries, and technologies commonly used in the field of Data Science, providing an overview of the rich ecosystem that supports data analysis, machine learning, and data visualization tasks. Let's dive into the world of Data Science and discover the tools that empower data-driven insights and innovation.\n",
    "\n",
    "\n",
    "\n"
   ]
  },
  {
   "cell_type": "markdown",
   "id": "e57876dd",
   "metadata": {},
   "source": [
    "## Objectives:\n",
    "\n",
    "In this notebook, we covered the following key objectives:\n",
    "\n",
    "- List popular languages for Data Science.\n",
    "- Explore commonly used libraries in Data Science.\n",
    "- Understand how to evaluate arithmetic expressions in Python.\n",
    "- Convert minutes to hours using Python.\n",
    "- Gain an overview of the Data Science Tools and Ecosystem.\n"
   ]
  },
  {
   "cell_type": "markdown",
   "id": "9ff3ce63",
   "metadata": {},
   "source": [
    "## Author\n",
    "Yahya Lourarhi"
   ]
  },
  {
   "cell_type": "markdown",
   "id": "15737b07",
   "metadata": {},
   "source": [
    "## Overview\n",
    "\n",
    "Some of the popular languages that Data Scientists use are:\n",
    "\n",
    "1. Python\n",
    "2. R\n",
    "3. Julia\n",
    "\n",
    "Python, R, and Julia are among the most commonly used programming languages in Data Science. They offer powerful libraries and frameworks that facilitate data manipulation, statistical analysis, machine learning, and more. Data Scientists often leverage these languages to explore data, build predictive models, and communicate their findings effectively.\n"
   ]
  },
  {
   "cell_type": "markdown",
   "id": "f224202f",
   "metadata": {},
   "source": [
    "## Overview \n",
    "\n",
    "Some of the commenly used libraries by Data Scientists include : \n",
    "\n",
    "    1. Pandas \n",
    "    2. Matplotlib\n",
    "    3. NumPy\n",
    "    4. Scikit-learn\n",
    "    \n",
    "Pandas, NumPy, and Scikit-learn are among the most widely used libraries in Data Science. They play crucial roles in data manipulation, numerical computations, and machine learning tasks. Pandas provides powerful data structures and tools for efficient data handling and cleaning. NumPy offers support for large, multi-dimensional arrays and matrices, making numerical computations efficient and convenient. Scikit-learn is a comprehensive library for machine learning algorithms and tools, enabling Data Scientists to build predictive models and perform various statistical analyses.\n"
   ]
  },
  {
   "cell_type": "markdown",
   "id": "820996d9",
   "metadata": {},
   "source": [
    "## Data Science Tools\n",
    "\n",
    "|Tools            |\n",
    "|-----------------|\n",
    "|Jupyter Notebook |\n",
    "|IBM Watson       |\n",
    "|Visual Studion   |\n",
    "    "
   ]
  },
  {
   "cell_type": "markdown",
   "id": "ee788ddf",
   "metadata": {},
   "source": [
    "### Examples of Evaluating Arithmetic Expressions in Python\n",
    "\n",
    "In this notebook, we will explore examples of evaluating arithmetic expressions in Python. Arithmetic expressions involve mathematical operations such as addition, subtraction, multiplication, and division, and Python provides built-in capabilities to handle these expressions effortlessly.\n",
    "\n",
    "Below are a few examples of evaluating arithmetic expressions in Python:\n",
    "\n",
    "1. Addition:"
   ]
  },
  {
   "cell_type": "code",
   "execution_count": 6,
   "id": "810552b2",
   "metadata": {},
   "outputs": [
    {
     "name": "stdout",
     "output_type": "stream",
     "text": [
      "8\n"
     ]
    }
   ],
   "source": [
    "\n",
    "result = 5 + 3\n",
    "print(result)"
   ]
  },
  {
   "cell_type": "markdown",
   "id": "134a6121",
   "metadata": {},
   "source": [
    "2. Subtraction:"
   ]
  },
  {
   "cell_type": "code",
   "execution_count": 7,
   "id": "61ee6dc4",
   "metadata": {},
   "outputs": [
    {
     "name": "stdout",
     "output_type": "stream",
     "text": [
      "6\n"
     ]
    }
   ],
   "source": [
    "result = 10 - 4\n",
    "print(result)  "
   ]
  },
  {
   "cell_type": "markdown",
   "id": "a0d10d32",
   "metadata": {},
   "source": [
    "3. Multiplication :"
   ]
  },
  {
   "cell_type": "code",
   "execution_count": 8,
   "id": "454e7ded",
   "metadata": {},
   "outputs": [
    {
     "name": "stdout",
     "output_type": "stream",
     "text": [
      "15\n"
     ]
    }
   ],
   "source": [
    "result = 3 * 5\n",
    "print(result)"
   ]
  },
  {
   "cell_type": "markdown",
   "id": "016dd6af",
   "metadata": {},
   "source": [
    "4. Division : "
   ]
  },
  {
   "cell_type": "code",
   "execution_count": 9,
   "id": "d5b27f62",
   "metadata": {},
   "outputs": [
    {
     "name": "stdout",
     "output_type": "stream",
     "text": [
      "5.0\n"
     ]
    }
   ],
   "source": [
    "result= 10 / 2\n",
    "print(result)"
   ]
  },
  {
   "cell_type": "code",
   "execution_count": 11,
   "id": "d6da1c05",
   "metadata": {},
   "outputs": [
    {
     "name": "stdout",
     "output_type": "stream",
     "text": [
      "17\n"
     ]
    }
   ],
   "source": [
    "# This is a simple arithmetic expression to multiply then add integers.\n",
    "\n",
    "result = (3 * 4) + 5\n",
    "print(result)  # Output: 17"
   ]
  },
  {
   "cell_type": "code",
   "execution_count": 12,
   "id": "52000b24",
   "metadata": {},
   "outputs": [
    {
     "name": "stdout",
     "output_type": "stream",
     "text": [
      "3.3333333333333335\n"
     ]
    }
   ],
   "source": [
    "# This will convert 200 minutes to hours by dividing by 60\n",
    "Minutes = 200\n",
    "print(Minutes/60)"
   ]
  },
  {
   "cell_type": "markdown",
   "id": "de48803e",
   "metadata": {},
   "source": []
  }
 ],
 "metadata": {
  "kernelspec": {
   "display_name": "Python 3 (ipykernel)",
   "language": "python",
   "name": "python3"
  },
  "language_info": {
   "codemirror_mode": {
    "name": "ipython",
    "version": 3
   },
   "file_extension": ".py",
   "mimetype": "text/x-python",
   "name": "python",
   "nbconvert_exporter": "python",
   "pygments_lexer": "ipython3",
   "version": "3.11.3"
  }
 },
 "nbformat": 4,
 "nbformat_minor": 5
}
